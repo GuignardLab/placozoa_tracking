{
 "cells": [
  {
   "cell_type": "code",
   "execution_count": 2,
   "id": "c6c0b665",
   "metadata": {},
   "outputs": [],
   "source": [
    "from tifffile import imread\n",
    "import matplotlib.pyplot as plt\n",
    "import numpy as np\n",
    "import pandas as pd\n",
    "import seaborn as sns\n",
    "import pipeline as pi\n",
    "from matplotlib import gridspec"
   ]
  },
  {
   "cell_type": "markdown",
   "id": "720e7a09",
   "metadata": {},
   "source": [
    "This is a notebook to reproduce the figures of the report"
   ]
  },
  {
   "cell_type": "code",
   "execution_count": 3,
   "id": "0dd36b81",
   "metadata": {},
   "outputs": [],
   "source": [
    "font_size = 12\n",
    "sns.set_palette('colorblind')"
   ]
  },
  {
   "cell_type": "markdown",
   "id": "c2f9cdeb",
   "metadata": {},
   "source": [
    "# Figure 1"
   ]
  },
  {
   "cell_type": "markdown",
   "id": "9a97ae14",
   "metadata": {},
   "source": [
    "## Import the datasets"
   ]
  },
  {
   "cell_type": "code",
   "execution_count": 4,
   "id": "019d44fa",
   "metadata": {},
   "outputs": [],
   "source": [
    "df_comp = pd.read_csv('../data/results/figures/chanvese/tricho_wounded_chanvese_fig.csv',sep=',')\n",
    "df_prepro = pd.read_csv('../data/results/figures/chanvese/tricho_wound_preprocessed_otsu_masked_fig.csv',sep=',')\n",
    "df_wound_comp = pd.read_csv('../data/results/figures/chanvese/wound_placozoan-movie_wound_masked_chanvese.csv',sep=';')\n",
    "df_wound_prepro = pd.read_csv('../data/results/figures/chanvese/wound_tricho_wound_preprocessed_otsu_masked.csv',sep=';')"
   ]
  },
  {
   "cell_type": "code",
   "execution_count": 5,
   "id": "439f8824",
   "metadata": {},
   "outputs": [],
   "source": [
    "missing_planes_pipeline = [x for x in df_comp.label.values if x not in df_wound_prepro.label.values]\n",
    "missing_planes_raw = [x for x in df_comp.label.values if x not in df_wound_comp.label.values]"
   ]
  },
  {
   "cell_type": "markdown",
   "id": "39312f18",
   "metadata": {},
   "source": [
    "## Building the Figure"
   ]
  },
  {
   "cell_type": "code",
   "execution_count": 6,
   "id": "e9037408",
   "metadata": {},
   "outputs": [],
   "source": [
    "size_pixel=0.7692 #microns"
   ]
  },
  {
   "cell_type": "code",
   "execution_count": null,
   "id": "c5dee2a9",
   "metadata": {},
   "outputs": [],
   "source": [
    "sns.set_context('paper') # set context for plotting\n",
    "\n",
    "fig = plt.figure(figsize=(12,8)) # create the canvas size\n",
    "\n",
    "gs = gridspec.GridSpec(4, 3) # make it as a grid \n",
    "\n",
    "\n",
    "# build grid\n",
    "ax = np.array([fig.add_subplot(gs[0:2,0]),fig.add_subplot(gs[2:4,0:3]),\n",
    "              fig.add_subplot(gs[0:2,1]),fig.add_subplot(gs[0:2,2])])\n",
    "#order: top left, bottom plot, top middle,top right\n",
    "\n",
    "\n",
    "# Plot and put each plot in corresponding subplot\n",
    "\n",
    "# top left\n",
    "\n",
    "sns.lineplot(data=df_comp, x=df_comp.index.values,y='area',ax = ax[0],label='Manually contrasted')\n",
    "sns.lineplot(data=df_prepro, x=df_prepro.index.values,y='area',ax = ax[0],label='Processed')\n",
    "\n",
    "#bottom plot\n",
    "\n",
    "sns.scatterplot(x = df_wound_comp.label.values,y = df_wound_comp.area*size_pixel*size_pixel,marker = '.'\n",
    "                ,linewidth = 0,label='Unprocessed',zorder=1,ax = ax[1])\n",
    "\n",
    "sns.scatterplot(x = df_wound_prepro.label.values,y = df_wound_prepro.area*size_pixel*size_pixel,marker = '.'\n",
    "                ,linewidth = 0,label='Preprocessed',zorder=1,ax = ax[1])\n",
    "\n",
    "sns.scatterplot(x = df_wound_comp.label.values , y = -1300,marker='|'\n",
    "                ,label=f'Planes unprocessed, n = {len(df_wound_comp.label.values)}',ax = ax[1])\n",
    "\n",
    "sns.scatterplot(x = df_wound_prepro.label.values , y = -800,marker='|'\n",
    "                ,label=f'Planes preprocessed, n = {len(df_wound_prepro.label.values)}',ax = ax[1])\n",
    "\n",
    "# top middle\n",
    "\n",
    "sns.lineplot(data=df_comp, x=df_comp.index.values,y='perimeter',ax = ax[2],label='Manually contrasted')\n",
    "sns.lineplot(data=df_prepro, x=df_prepro.index.values,y='perimeter',ax = ax[2],label='Processed')\n",
    "\n",
    "# top right\n",
    "\n",
    "sns.lineplot(data=df_comp, x=df_comp.index.values,y='eccentricity',ax = ax[3],label='Manually contrasted')\n",
    "sns.lineplot(data=df_prepro, x=df_prepro.index.values,y='eccentricity',ax = ax[3],label='Processed')\n",
    "\n",
    "ax[1].set_xlim(ax[0].get_xlim()[0],ax[0].get_xlim()[1])\n",
    "    \n",
    "# Add the letter for panel\n",
    "\n",
    "letter = ['A.','D.','B.','C.']\n",
    "\n",
    "for i in range(4): \n",
    "    if i != 1:\n",
    "        ax[i].text(-0.1,1.01, letter[i], transform=ax[i].transAxes,fontsize='x-large',fontweight='bold',family='sans-serif')\n",
    "    else:\n",
    "        ax[i].text(-0.027,1.01, letter[i], transform=ax[i].transAxes,fontsize='x-large',fontweight='bold',family='sans-serif')\n",
    "\n",
    "# Customize \n",
    "\n",
    "lab = ['Area (µm²)','Area (µm²)','Perimeter (µm)','Eccentricity']\n",
    "\n",
    "for l,a in enumerate(ax):\n",
    "    a.set_ylabel(lab[l],fontsize = font_size)\n",
    "    a.legend(fontsize=11,markerscale=3)\n",
    "    \n",
    "ax[1].set_xlabel('Frame',fontsize = font_size)\n",
    "ax[2].set_xlabel('Frame',fontsize = font_size)\n",
    "\n",
    "plt.tight_layout()\n",
    "#plt.savefig('../data/results/figures/report/fig1_replot.svg',dpi=300)\n",
    "plt.show()"
   ]
  },
  {
   "cell_type": "markdown",
   "id": "3968d414",
   "metadata": {},
   "source": [
    "# Figure 2"
   ]
  },
  {
   "cell_type": "code",
   "execution_count": 10,
   "id": "cad11bdb",
   "metadata": {},
   "outputs": [],
   "source": [
    "df_drift = pd.read_csv('../data/results/figures/report/df_drift_fig.csv')\n",
    "df_global_drift = pd.read_csv('../data/results/figures/report/drift_all_planes.csv')"
   ]
  },
  {
   "cell_type": "code",
   "execution_count": null,
   "id": "f50b61d8",
   "metadata": {
    "scrolled": true
   },
   "outputs": [],
   "source": [
    "sns.scatterplot(data=df_global_drift,x='Unnamed: 0',y='Drift',hue='Color',linewidth=0)"
   ]
  },
  {
   "cell_type": "code",
   "execution_count": 11,
   "id": "bc56f465",
   "metadata": {},
   "outputs": [],
   "source": [
    "def eucldist(df_t,points):\n",
    "    '''\n",
    "    Function to compute the eucledian distance\n",
    "    \n",
    "    Parameters\n",
    "    ----------\n",
    "    df_t : dataframe\n",
    "        position of te algae at frame t.\n",
    "    df_t1 : dataframe\n",
    "        position of te algae at time t plus 1.\n",
    "    points : list\n",
    "        the position in the dataframe where to compute the distance.\n",
    "\n",
    "    Returns\n",
    "    -------\n",
    "    dist : int\n",
    "        the eucledian distance between the 2 points.\n",
    "\n",
    "    '''\n",
    "    one = df_t.iloc[points[0]]\n",
    "    two = df_t.iloc[points[1]]\n",
    "    diff = (two['centroid-1']-one['centroid-1'])**2 + (two['centroid-0']-one['centroid-0'])**2\n",
    "    dist = np.sqrt(diff)\n",
    "    \n",
    "    return dist\n",
    "\n",
    "def clean_results(df_org,df_drift,window_size = 1):\n",
    "    '''\n",
    "    Parameters\n",
    "    ----------\n",
    "    dft : Dataframe\n",
    "        Dataframe of the organism properties.\n",
    "    df_drift : Dataframe\n",
    "        Dataframe of the drift moments.\n",
    "\n",
    "    Returns\n",
    "    -------\n",
    "    dft : Dataframe\n",
    "        Dataframe of the organism properties with corrected drift and interpolation.\n",
    "\n",
    "    Worklow\n",
    "    -------\n",
    "    \n",
    "    First remove the laser time point (might create an odd value) for that I just replace the whole line by the one before\n",
    "    Then the goal is to correct the drift for that:\n",
    "        -Loop over all planes \n",
    "        - if plane in the drift dataframe then correct depending on the corrdinate and the orientation of the movement\n",
    "    \n",
    "    TO DO:\n",
    "        optimize this function that might take a while for big dataframes. Might be a better way to correct the dataframe\n",
    "        \n",
    "    '''\n",
    "    dft = df_org.copy()\n",
    "    \n",
    "    for i in dft.index.values:\n",
    "        index = i \n",
    "        if index in df_drift.end.values:\n",
    "            if df_drift[df_drift.end == index].direction.values == 0:\n",
    "                \n",
    "                if df_drift[df_drift.end == index].coord.values == 'y':\n",
    "    \n",
    "                    dft.loc[index,'centroid-0'] = dft.loc[index,'centroid-0'] - np.abs(df_drift[df_drift.end == index].displacement.values)\n",
    "                \n",
    "                else:\n",
    "                    \n",
    "                    dft.loc[index,'centroid-1'] = dft.loc[index,'centroid-1'] - np.abs(df_drift[df_drift.end == index].displacement.values)\n",
    "                    \n",
    "            else:\n",
    "                \n",
    "                if df_drift[df_drift.end == index].coord.values == 'y':\n",
    "                    \n",
    "                    dft.loc[index,'centroid-0'] = dft.loc[index,'centroid-0'] + np.abs(df_drift[df_drift.end == index].displacement.values)\n",
    "                \n",
    "                else:\n",
    "                    \n",
    "                    dft.loc[index,'centroid-1'] = dft.loc[index,'centroid-1'] + np.abs(df_drift[df_drift.end == index].displacement.values)\n",
    "    return dft"
   ]
  },
  {
   "cell_type": "code",
   "execution_count": 12,
   "id": "f4f76d79",
   "metadata": {},
   "outputs": [],
   "source": [
    "disp_pipe = [0]\n",
    "disp_comp = [0]\n",
    "\n",
    "for i in range(len(df_comp.index.values)-1):\n",
    "    disp_pipe.append(eucldist(df_prepro,[i,i+1]))\n",
    "    disp_comp.append(eucldist(df_comp,[i,i+1]))"
   ]
  },
  {
   "cell_type": "code",
   "execution_count": 13,
   "id": "94531a36",
   "metadata": {},
   "outputs": [],
   "source": [
    "df_pip = df_prepro.copy()\n",
    "df_compa = df_comp.copy()"
   ]
  },
  {
   "cell_type": "code",
   "execution_count": 14,
   "id": "d3a97d83",
   "metadata": {
    "scrolled": false
   },
   "outputs": [],
   "source": [
    "df_pip.loc[:,'displacement'] = disp_pipe\n",
    "df_compa.loc[:,'displacement'] = disp_comp"
   ]
  },
  {
   "cell_type": "code",
   "execution_count": 15,
   "id": "97a762d0",
   "metadata": {},
   "outputs": [],
   "source": [
    "fmin = 700 \n",
    "fmax = 800 \n",
    "\n",
    "df_pip = df_pip.iloc[fmin:fmax]\n",
    "df_compa = df_compa.iloc[fmin:fmax]"
   ]
  },
  {
   "cell_type": "code",
   "execution_count": 16,
   "id": "afccf003",
   "metadata": {},
   "outputs": [],
   "source": [
    "for i in df_pip.index.values:\n",
    "    df_pip.loc[i,'displacement'] = df_pip.loc[i,'displacement']/np.max(df_pip.displacement)\n",
    "    df_compa.loc[i,'displacement'] = df_compa.loc[i,'displacement']/np.max(df_compa.displacement)"
   ]
  },
  {
   "cell_type": "code",
   "execution_count": null,
   "id": "4ffe8955",
   "metadata": {},
   "outputs": [],
   "source": [
    "fig,ax = plt.subplots(1,2,figsize=(10,5))\n",
    "\n",
    "sns.scatterplot(data = df_pip , y = 'centroid-0',x = 'centroid-1',marker=\"o\"\n",
    "                ,hue='displacement',palette=\"magma\",linewidth=0,ax=ax[1]\n",
    "               ,hue_norm = (0,1))\n",
    "ax[1].scatter(y = df_pip['centroid-0'].values[0],x = df_pip['centroid-1'].values[0]\n",
    "                ,marker=\"^\",label='begining')\n",
    "ax[1].scatter(y = df_pip['centroid-0'].values[-1],x = df_pip['centroid-1'].values[-1]\n",
    "                ,marker=\"s\",label='end')\n",
    "\n",
    "\n",
    "sns.scatterplot(data=df_compa,y = 'centroid-0',x = 'centroid-1',marker=\"o\"\n",
    "                ,hue='displacement',palette=\"magma\",linewidth=0,ax=ax[0],\n",
    "                hue_norm = (0,1))\n",
    "ax[0].scatter(y = df_compa['centroid-0'].values[0],x = df_compa['centroid-1'].values[0]\n",
    "                ,marker=\"^\",label='begining')\n",
    "ax[0].scatter(y = df_compa['centroid-0'].values[-1],x = df_compa['centroid-1'].values[-1]\n",
    "                ,marker=\"s\",label='end')\n",
    "\n"
   ]
  },
  {
   "cell_type": "code",
   "execution_count": null,
   "id": "3bb3853b",
   "metadata": {
    "scrolled": true
   },
   "outputs": [],
   "source": [
    "dx2 = []\n",
    "dy2 = []\n",
    "\n",
    "\n",
    "e = pd.read_csv('../data/pos_alg_figure.csv',sep=';')\n",
    "e = e[['Y','X','Slice']]\n",
    "\n",
    "for j in range(1,len(e.index)):\n",
    "    if e.iloc[j].Slice == e.iloc[j-1].Slice + 1:\n",
    "        dx2.append(pi.distance(e,[j-1,j])[0])\n",
    "        dy2.append(pi.distance(e,[j-1,j])[1])      \n",
    "e"
   ]
  },
  {
   "cell_type": "code",
   "execution_count": null,
   "id": "4ddeefec",
   "metadata": {
    "scrolled": true
   },
   "outputs": [],
   "source": [
    "disp = []\n",
    "\n",
    "for i in range(len(dx2)):\n",
    "    if np.abs(dx2[i]) > np.abs(dy2[i]):\n",
    "        disp.append(int(dx2[i]))\n",
    "    else:\n",
    "        disp.append(int(dy2[i]))\n",
    "disp"
   ]
  },
  {
   "cell_type": "code",
   "execution_count": 19,
   "id": "7ae1614b",
   "metadata": {},
   "outputs": [],
   "source": [
    "df_drift_true = df_drift.copy()"
   ]
  },
  {
   "cell_type": "code",
   "execution_count": null,
   "id": "4da756e7",
   "metadata": {
    "scrolled": true
   },
   "outputs": [],
   "source": [
    "df_drift_true.loc[:,'displacement'] = np.abs(disp)\n",
    "df_drift_true"
   ]
  },
  {
   "cell_type": "code",
   "execution_count": 21,
   "id": "aedc2e96",
   "metadata": {},
   "outputs": [],
   "source": [
    "df_true = clean_results(df_prepro,df_drift_true)"
   ]
  },
  {
   "cell_type": "code",
   "execution_count": 22,
   "id": "eb0ac044",
   "metadata": {},
   "outputs": [],
   "source": [
    "distance_t = [0]\n",
    "for i in range(len(df_true.index.values)-1):\n",
    "    distance_t.append(eucldist(df_true,[i,i+1]))\n",
    "    \n",
    "df_true.loc[:,'displacement'] = distance_t\n",
    "\n",
    "df_tr = df_true.iloc[fmin:fmax]\n",
    "\n",
    "for i in df_tr.index.values:\n",
    "    df_tr.loc[i,'displacement'] = df_tr.loc[i,'displacement']/np.max(df_tr.displacement)"
   ]
  },
  {
   "cell_type": "code",
   "execution_count": null,
   "id": "a2a4aa94",
   "metadata": {},
   "outputs": [],
   "source": [
    "sns.set_style(\"dark\")\n",
    "sns.set_context('talk')\n",
    "\n",
    "fig,ax = plt.subplots(1,3,figsize=(15,5))\n",
    "df_l = [df_compa,df_pip,df_tr]\n",
    "leg = ['Raw data','Pipeline drift correction','Manual drift correction']\n",
    "\n",
    "for ax,df,name in zip(ax,df_l,leg):\n",
    "    #Trajectory\n",
    "    sns.scatterplot(data=df,y = 'centroid-0',x = 'centroid-1',marker=\"o\"\n",
    "                ,hue='displacement',palette=\"magma\",linewidth=0,ax=ax,\n",
    "                hue_norm = (0.,1),zorder=1)\n",
    "    #Begining point\n",
    "    ax.scatter(y = df['centroid-0'].values[0],x = df['centroid-1'].values[0]\n",
    "                ,marker=\"^\",label='begining',zorder=2)\n",
    "    #End point\n",
    "    ax.scatter(y = df['centroid-0'].values[-1],x = df['centroid-1'].values[-1]\n",
    "                ,marker=\"s\",label='end',zorder=2)\n",
    "    #Trajectoy (line)\n",
    "    ax.plot(df['centroid-1'],df['centroid-0'],color='tab:blue',linestyle='--'\n",
    "           ,zorder=0)\n",
    "    #Style\n",
    "    ax.legend(prop={'size': 12})\n",
    "    ax.set_ylabel('Y')\n",
    "    ax.set_xlabel('X')\n",
    "    ax.set_title(name)\n",
    "\n",
    "plt.tight_layout()"
   ]
  },
  {
   "cell_type": "code",
   "execution_count": 23,
   "id": "39a3422e",
   "metadata": {
    "scrolled": true
   },
   "outputs": [],
   "source": [
    "im = imread('../data/tricho_wound.tif')\n",
    "df_plot = pd.read_csv('../data/results/figures/report/df_drift_plot.csv')"
   ]
  },
  {
   "cell_type": "code",
   "execution_count": 24,
   "id": "c01d9ef7",
   "metadata": {},
   "outputs": [],
   "source": [
    "sns.set_style('ticks')"
   ]
  },
  {
   "cell_type": "code",
   "execution_count": null,
   "id": "64e23857",
   "metadata": {},
   "outputs": [],
   "source": [
    "sns.set_context('paper') # set context for plotting\n",
    "\n",
    "fig,ax = plt.subplots(2,3,figsize=(12,8)) # create the canvas size\n",
    "\n",
    "ax = ax.flatten() \n",
    "\n",
    "# Plot and put each plot in corresponding subplot\n",
    "\n",
    "# top left\n",
    "\n",
    "ax[0].imshow(im[757,...],cmap='gray')\n",
    "ax[0].axis('off')\n",
    "\n",
    "# top middle\n",
    "\n",
    "\n",
    "ax[1].imshow(im[757,...],cmap='gray')\n",
    "ax[1].axis('off')\n",
    "\n",
    "for i in range(len(df_plot.index)):\n",
    "    color = tuple(np.random.random(size=3))\n",
    "    c = plt.Circle((df_plot['centroid-0'].values[i],df_plot['centroid-1'].values[i]), 10,color=color, fill=False,lw=1.5)\n",
    "    ax[1].add_patch(c)\n",
    "    d = plt.Circle((df_plot['centroid-0_1'].values[i],df_plot['centroid-1_1'].values[i]), 10,color=color, fill=False,lw=1.5)\n",
    "    ax[1].add_patch(d)\n",
    "    \n",
    "ax[1].arrow(540,40,-200,0,color='black',width=20)\n",
    "                      \n",
    "# top right\n",
    "\n",
    "with sns.axes_style(\"ticks\"):\n",
    "\n",
    "    sns.scatterplot(data=df_global_drift,x='Unnamed: 0',y='Drift',hue='Color',linewidth=0,ax = ax[2])\n",
    "    ax[2].set_xlim(700,1039)\n",
    "    ax[2].legend(title='Detected drift?',markerscale=1.5,title_fontsize=11,fontsize=10)\n",
    "    ax[2].set_xlabel('Frame',fontsize=font_size)\n",
    "    ax[2].set_ylabel('Drift (pixels)',fontsize=font_size)\n",
    "\n",
    "#bottom row \n",
    "                      \n",
    "df_l = [df_compa,df_pip,df_tr]\n",
    "leg = ['Raw data','Pipeline drift correction','Manual drift correction']\n",
    "\n",
    "\n",
    "with sns.axes_style(\"dark\"):\n",
    "    \n",
    "    for a,df,name in zip(ax[3:6],df_l,leg):\n",
    "        #Trajectory\n",
    "        sns.scatterplot(data=df,y = 'centroid-0',x = 'centroid-1',marker=\"o\"\n",
    "                    ,hue='displacement',palette=\"magma\",linewidth=0,ax=a,\n",
    "                    hue_norm = (0.,1),zorder=1)\n",
    "        #Begining point\n",
    "        a.scatter(y = df['centroid-0'].values[0],x = df['centroid-1'].values[0]\n",
    "                    ,marker=\"^\",label='Begining',zorder=2,s=50)\n",
    "        #End point\n",
    "        a.scatter(y = df['centroid-0'].values[-1],x = df['centroid-1'].values[-1]\n",
    "                    ,marker=\"s\",label='End',zorder=2,s=50)\n",
    "        #Trajectoy (line)\n",
    "        a.plot(df['centroid-1'],df['centroid-0'],color='tab:blue',linestyle='--'\n",
    "               ,zorder=0)\n",
    "        a.set_ylabel('Y',fontsize=font_size)\n",
    "        a.set_xlabel('X',fontsize=font_size)\n",
    "        a.legend(title='Displacement',markerscale=1.5,title_fontsize=11,fontsize=10)\n",
    "                      \n",
    "# Add the letter for panel\n",
    "\n",
    "letter = ['A.','B.','C.','D.','E.','F.']\n",
    "\n",
    "for i in range(6): \n",
    "    ax[i].text(-0.1,1.01, letter[i], transform=ax[i].transAxes,fontsize='x-large',fontweight='bold',family='sans-serif')\n",
    "\n",
    "plt.tight_layout()\n",
    "#plt.savefig('../data/results/figures/report/fig2_replot.svg',dpi=300)\n",
    "plt.show()"
   ]
  },
  {
   "cell_type": "markdown",
   "id": "d850d00b",
   "metadata": {},
   "source": [
    "# Figure 3"
   ]
  },
  {
   "cell_type": "code",
   "execution_count": 28,
   "id": "5edcf97c",
   "metadata": {},
   "outputs": [],
   "source": [
    "df_new_segm = pd.read_csv('../data/new_movies/results/tables/props_19102022_16h02_1.csv')\n",
    "df_drift_ns = pd.read_csv('../data/new_movies/results/tables/drift_19102022_16h02_1.csv')\n",
    "df_postpro = pi.clean_results(df_new_segm,df_drift_ns,window_size=3)"
   ]
  },
  {
   "cell_type": "code",
   "execution_count": null,
   "id": "f5dbd01b",
   "metadata": {
    "scrolled": true
   },
   "outputs": [],
   "source": [
    "df_new_segm.area.plot()\n",
    "df_postpro.area.plot()"
   ]
  },
  {
   "cell_type": "code",
   "execution_count": 30,
   "id": "eaf0c646",
   "metadata": {},
   "outputs": [],
   "source": [
    "df_error = df_drift.copy()"
   ]
  },
  {
   "cell_type": "code",
   "execution_count": 31,
   "id": "2856ff81",
   "metadata": {},
   "outputs": [],
   "source": [
    "df_error.loc[:,'error'] = df_drift_true.loc[:,'displacement'] - df_drift.loc[:,'displacement']\n",
    "df_error.loc[:,'error_abs'] = np.abs(df_drift_true.loc[:,'displacement'] - df_drift.loc[:,'displacement'])\n"
   ]
  },
  {
   "cell_type": "code",
   "execution_count": null,
   "id": "8848cc92",
   "metadata": {
    "scrolled": true
   },
   "outputs": [],
   "source": [
    "sns.scatterplot(data=df_error,x=df_error.index.values,y=\"error_abs\",marker='X')\n",
    "plt.hlines(df_error.error_abs.mean(),0,40,linestyle='--')"
   ]
  },
  {
   "cell_type": "code",
   "execution_count": null,
   "id": "e82a9916",
   "metadata": {
    "scrolled": true
   },
   "outputs": [],
   "source": [
    "sns.lineplot([sum(df_error.error.values[0:x]) for x in range(len(df_error.error.values))])"
   ]
  },
  {
   "cell_type": "code",
   "execution_count": null,
   "id": "b9ed5d56",
   "metadata": {},
   "outputs": [],
   "source": [
    "sns.set_context('paper') # set context for plotting\n",
    "\n",
    "fig = plt.figure(figsize=(12,8)) # create the canvas size\n",
    "\n",
    "gs = gridspec.GridSpec(2, 2) # make it as a grid \n",
    "\n",
    "\n",
    "# build grid\n",
    "ax = np.array([fig.add_subplot(gs[0,0]),fig.add_subplot(gs[0,1]),fig.add_subplot(gs[1,0:2])])\n",
    "\n",
    "# panel A\n",
    "\n",
    "sns.scatterplot(data=df_error,x=df_error.index.values,y=\"error_abs\",marker='X',ax = ax[0])\n",
    "ax[0].hlines(df_error.error_abs.mean(),0,40,linestyle='--')\n",
    "\n",
    "# panel B\n",
    "\n",
    "sns.lineplot([sum(df_error.error.values[0:x]) for x in range(len(df_error.error.values))],ax=ax[1])\n",
    "\n",
    "# panel C\n",
    "\n",
    "pixel_size =2.6 # in microns \n",
    "\n",
    "sns.lineplot(x=df_new_segm.index.values,y=df_new_segm.area.values*pixel_size*pixel_size,ax=ax[2])\n",
    "sns.lineplot(x=df_postpro.index.values,y=df_postpro.area.values*pixel_size*pixel_size,ax=ax[2])\n",
    "\n",
    "# Add the letter for panel\n",
    "\n",
    "letter = ['A.','B.','C.']\n",
    "\n",
    "for i in range(3): \n",
    "    if i != 2:\n",
    "        ax[i].text(-0.05,1.01, letter[i], transform=ax[i].transAxes,fontsize='x-large',fontweight='bold',family='sans-serif')\n",
    "    else:\n",
    "        ax[i].text(-0.027,1.03, letter[i], transform=ax[i].transAxes,fontsize='x-large',fontweight='bold',family='sans-serif')\n",
    "\n",
    "# customization\n",
    "lab = ['$|Error|$','Cumulative error','Area $\\mu m^2$',]\n",
    "for l,a in enumerate(ax):\n",
    "    a.set_ylabel(lab[l],fontsize = font_size)\n",
    "\n",
    "ax[2].set_xlabel('Frame',fontsize = font_size)\n",
    "\n",
    "# saving\n",
    "\n",
    "plt.tight_layout()\n",
    "#plt.savefig('../data/results/figures/report/fig3_replot.svg',dpi=300)\n",
    "plt.show()"
   ]
  },
  {
   "cell_type": "markdown",
   "id": "7e0a6949",
   "metadata": {},
   "source": [
    "# Figure 4"
   ]
  },
  {
   "cell_type": "code",
   "execution_count": 35,
   "id": "643b4024",
   "metadata": {},
   "outputs": [],
   "source": [
    "df_wound,_ = pi.interpolate_wound(df_wound_prepro,df_prepro,19,['area'],degree=3)"
   ]
  },
  {
   "cell_type": "code",
   "execution_count": 36,
   "id": "2192efdf",
   "metadata": {},
   "outputs": [],
   "source": [
    "area_w = np.array((df_wound.area.values))\n",
    "area_o = np.array((df_prepro.area.values))"
   ]
  },
  {
   "cell_type": "code",
   "execution_count": 37,
   "id": "45d9a848",
   "metadata": {},
   "outputs": [],
   "source": [
    "ratio = (area_w/area_o)*100\n",
    "\n",
    "df_prepro.loc[:,'ratio'] = ratio "
   ]
  },
  {
   "cell_type": "code",
   "execution_count": null,
   "id": "c9cee7df",
   "metadata": {
    "scrolled": true
   },
   "outputs": [],
   "source": [
    "plt.plot(df_prepro['centroid-0'],df_prepro['centroid-1'],linestyle='--',zorder=0)\n",
    "\n",
    "sns.scatterplot(data=df_prepro,x='centroid-0',y='centroid-1',hue=ratio,palette='viridis',linewidth=0,zorder=1,\n",
    "                hue_norm=(min(ratio),max(ratio)))\n",
    "\n",
    "plt.scatter(x=df_prepro['centroid-0'].values[0],y=df_prepro['centroid-1'].values[0] \n",
    "            ,marker=\"^\",linewidth=0,label='begining',zorder=2,s=100)\n",
    "\n",
    "plt.scatter(x=df_prepro['centroid-0'].values[-1],y=df_prepro['centroid-1'].values[-1] \n",
    "            ,marker=\"s\",linewidth=0,label='end',zorder=2,s=100)\n",
    "\n",
    "plt.legend()\n"
   ]
  },
  {
   "cell_type": "code",
   "execution_count": null,
   "id": "2414e228",
   "metadata": {},
   "outputs": [],
   "source": [
    "sns.set_context('paper') # set context for plotting\n",
    "\n",
    "fig,ax = plt.subplots(2,2,figsize=(12,8)) # create the canvas size\n",
    "\n",
    "# build grid\n",
    "ax = ax.ravel()\n",
    "\n",
    "# panel A\n",
    "\n",
    "ax[0].plot(df_prepro['centroid-0'],df_prepro['centroid-1'],linestyle='--',zorder=0)\n",
    "\n",
    "sns.scatterplot(data=df_prepro,x='centroid-0',y='centroid-1',hue=df_prepro.index.values,palette='magma',linewidth=0,zorder=1,\n",
    "                hue_norm=(0,1000),ax=ax[0])\n",
    "\n",
    "ax[0].scatter(x=df_prepro['centroid-0'].values[0],y=df_prepro['centroid-1'].values[0] \n",
    "            ,marker=\"^\",linewidth=0,label='begining',zorder=2,s=100)\n",
    "\n",
    "ax[0].scatter(x=df_prepro['centroid-0'].values[-1],y=df_prepro['centroid-1'].values[-1] \n",
    "            ,marker=\"s\",linewidth=0,label='end',zorder=2,s=100,color='red')\n",
    "\n",
    "# panel B\n",
    "\n",
    "ax[1].plot(df_prepro['centroid-0'],df_prepro['centroid-1'],linestyle='--',zorder=0)\n",
    "\n",
    "sns.scatterplot(data=df_prepro,x='centroid-0',y='centroid-1',hue=ratio,palette='viridis',linewidth=0,zorder=1,\n",
    "                hue_norm=(min(ratio),max(ratio)),ax=ax[1])\n",
    "\n",
    "ax[1].scatter(x=df_prepro['centroid-0'].values[0],y=df_prepro['centroid-1'].values[0] \n",
    "            ,marker=\"^\",linewidth=0,label='begining',zorder=2,s=100)\n",
    "\n",
    "ax[1].scatter(x=df_prepro['centroid-0'].values[-1],y=df_prepro['centroid-1'].values[-1] \n",
    "            ,marker=\"s\",linewidth=0,label='end',zorder=2,s=100,color='red')\n",
    "\n",
    "\n",
    "# panel C\n",
    "\n",
    "ax[2].plot(ratio)\n",
    "ax[2].vlines(19,0,max(ratio),linestyle='--')\n",
    "\n",
    "# panel D\n",
    "\n",
    "ax2 = ax[3].twinx()\n",
    "\n",
    "sns.lineplot(x=df_prepro.index.values,y = df_prepro.area*(pixel_size)*(pixel_size),ax = ax[3],color='tab:blue')\n",
    "\n",
    "sns.lineplot(x=df_wound.index.values,y = df_wound.area*(pixel_size)*(pixel_size), ax = ax2,color='tab:orange')\n",
    "\n",
    "ax[3].axvline(19,0,ax[3].get_ylim()[1],linestyle='--',color='black',alpha=0.8,label='laser ablation')\n",
    "\n",
    "ax[3].ticklabel_format(style='plain')\n",
    "\n",
    "# Add the letter for panel\n",
    "\n",
    "letter = ['A.','B.','C.','D.']\n",
    "\n",
    "for i in range(4): \n",
    "    ax[i].text(-0.05,1.05, letter[i], transform=ax[i].transAxes,fontsize='x-large',fontweight='bold',family='sans-serif')\n",
    "\n",
    "for l,a in enumerate(ax):\n",
    "    if l != 2:\n",
    "        a.legend(markerscale=1.3,fontsize=9)\n",
    "\n",
    "# customization\n",
    "\n",
    "ax[3].set_ylabel('Trichoplax area $\\mu m^2$',color = 'tab:blue',fontsize = font_size)\n",
    "ax2.set_ylabel('Wound area $\\mu m^2$',color='tab:orange',fontsize = font_size)\n",
    "ax[3].set_xlabel('Frame',fontsize = font_size)\n",
    "\n",
    "ax[0].set_ylabel('Y',fontsize = font_size)\n",
    "ax[1].set_ylabel('Y',fontsize = font_size)\n",
    "\n",
    "ax[0].set_xlabel('X',fontsize = font_size)\n",
    "ax[1].set_xlabel('X',fontsize = font_size)\n",
    "\n",
    "ax[2].set_ylabel(r\"$ \\frac{wound\\,area}{organism\\,area}$\" + '(%)',fontsize = font_size)\n",
    "ax[2].set_xlabel('Frame',fontsize = font_size)\n",
    "\n",
    "# saving\n",
    "\n",
    "plt.tight_layout()\n",
    "#plt.savefig('../data/results/figures/report/fig4_replot.svg',dpi=300)\n",
    "plt.show()"
   ]
  },
  {
   "cell_type": "code",
   "execution_count": null,
   "id": "bf39c3e9",
   "metadata": {},
   "outputs": [],
   "source": []
  }
 ],
 "metadata": {
  "kernelspec": {
   "display_name": "Python 3 (ipykernel)",
   "language": "python",
   "name": "python3"
  },
  "language_info": {
   "codemirror_mode": {
    "name": "ipython",
    "version": 3
   },
   "file_extension": ".py",
   "mimetype": "text/x-python",
   "name": "python",
   "nbconvert_exporter": "python",
   "pygments_lexer": "ipython3",
   "version": "3.10.8"
  }
 },
 "nbformat": 4,
 "nbformat_minor": 5
}
