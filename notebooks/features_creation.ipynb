{
 "cells": [
  {
   "cell_type": "markdown",
   "metadata": {},
   "source": [
    "# Feature creation from a MASK\n",
    "##### Characterizing the shape of a segmented image (binary mask), that can be either the entire Placozoa organism, either the wound."
   ]
  },
  {
   "cell_type": "markdown",
   "metadata": {},
   "source": [
    "Import all the mandatory modules"
   ]
  },
  {
   "cell_type": "code",
   "execution_count": 1,
   "metadata": {},
   "outputs": [],
   "source": [
    "from placozoan.base_features import SingleObjectFeatures\n",
    "from placozoan.utils import load_params, load_tiff\n",
    "from pathlib import Path"
   ]
  },
  {
   "cell_type": "code",
   "execution_count": 2,
   "metadata": {},
   "outputs": [
    {
     "data": {
      "text/plain": [
       "{'input': {'mask_path': '../data/results/chan_vese/tricho8_stretched_filled.tif',\n",
       "  'intensity_path': '../data/tricho8_stretched_filled.tif',\n",
       "  'axes': 'TYX',\n",
       "  'rearrange_pattern': 'None'},\n",
       " 'output': {'path': '../data/results/figures/chanvese/tricho8_contrasted_stretched_filled.csv',\n",
       "  'rearrange_pattern': 'None'},\n",
       " 'features': {'properties': ['label',\n",
       "   'centroid',\n",
       "   'area',\n",
       "   'perimeter',\n",
       "   'eccentricity',\n",
       "   'orientation',\n",
       "   'axis_major_length',\n",
       "   'axis_minor_length'],\n",
       "  'extra_properties': ['convexity']}}"
      ]
     },
     "execution_count": 2,
     "metadata": {},
     "output_type": "execute_result"
    }
   ],
   "source": [
    "# load params\n",
    "\n",
    "param_path = Path('../parameters/default_wound_features.yml')\n",
    "params = load_params(param_path)\n",
    "params"
   ]
  },
  {
   "cell_type": "code",
   "execution_count": 4,
   "metadata": {},
   "outputs": [],
   "source": [
    "# load image\n",
    "max_t=-1 # put -1 to take all time step\n",
    "\n",
    "im_axes = params[\"input\"][\"axes\"]\n",
    "mask_path = Path(params[\"input\"][\"mask_path\"])\n",
    "mask_im = load_tiff(mask_path, im_axes)#[:max_t] # take only a slice of the image for demo\n",
    "intensity_path = Path(params[\"input\"][\"intensity_path\"])\n",
    "intensity_im = load_tiff(intensity_path, im_axes)#[:max_t] # take only a slice of the image for demo"
   ]
  },
  {
   "cell_type": "code",
   "execution_count": 5,
   "metadata": {},
   "outputs": [],
   "source": [
    "features_params = params[\"features\"]\n",
    "segmentator = SingleObjectFeatures(mask_im, intensity_im, params=features_params)\n",
    "df_props = segmentator.get_features()"
   ]
  },
  {
   "cell_type": "markdown",
   "metadata": {},
   "source": [
    "Save the dataframe as a csv file :"
   ]
  },
  {
   "cell_type": "code",
   "execution_count": 6,
   "metadata": {},
   "outputs": [],
   "source": [
    "output_path = Path(params[\"output\"][\"path\"])\n",
    "df_props.to_csv(output_path,sep=';')"
   ]
  },
  {
   "cell_type": "code",
   "execution_count": null,
   "metadata": {},
   "outputs": [],
   "source": []
  },
  {
   "cell_type": "code",
   "execution_count": null,
   "metadata": {},
   "outputs": [],
   "source": []
  }
 ],
 "metadata": {
  "kernelspec": {
   "display_name": "Python 3 (ipykernel)",
   "language": "python",
   "name": "python3"
  },
  "language_info": {
   "codemirror_mode": {
    "name": "ipython",
    "version": 3
   },
   "file_extension": ".py",
   "mimetype": "text/x-python",
   "name": "python",
   "nbconvert_exporter": "python",
   "pygments_lexer": "ipython3",
   "version": "3.10.6"
  },
  "vscode": {
   "interpreter": {
    "hash": "aa58fafd1f70bf561ce8760c93e0c4bbf700c7f6c7f3e37cbda10e6ab2c66cad"
   }
  }
 },
 "nbformat": 4,
 "nbformat_minor": 2
}
