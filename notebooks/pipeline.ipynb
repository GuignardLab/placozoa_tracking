{
 "cells": [
  {
   "cell_type": "markdown",
   "id": "548349fc",
   "metadata": {},
   "source": [
    "# Import the packages"
   ]
  },
  {
   "cell_type": "code",
   "execution_count": null,
   "id": "c8156764",
   "metadata": {},
   "outputs": [],
   "source": [
    "import pipeline as pi\n",
    "from tifffile import imread,imwrite\n",
    "import matplotlib.pyplot as plt\n",
    "import seaborn as sns\n",
    "import numpy as np\n",
    "import pandas as pd\n",
    "import time\n",
    "from placozoan.func_segmentation import get_holes_mask\n",
    "from placozoan.base_features import SingleObjectFeatures"
   ]
  },
  {
   "cell_type": "markdown",
   "id": "4bc7f1e1",
   "metadata": {
    "tags": []
   },
   "source": [
    "# Preprocessing"
   ]
  },
  {
   "cell_type": "code",
   "execution_count": null,
   "id": "6247fd8a",
   "metadata": {},
   "outputs": [],
   "source": [
    "start = time.time()"
   ]
  },
  {
   "cell_type": "code",
   "execution_count": null,
   "id": "52ccd950",
   "metadata": {
    "scrolled": true
   },
   "outputs": [],
   "source": [
    "preprocessed,alg_mask = pi.preprocessing('../data/tricho_8_demo.tif')"
   ]
  },
  {
   "cell_type": "markdown",
   "id": "6db67e8f",
   "metadata": {
    "tags": []
   },
   "source": [
    "# Drift computation"
   ]
  },
  {
   "cell_type": "markdown",
   "id": "7ea19cf9",
   "metadata": {
    "tags": []
   },
   "source": [
    "### Computing the drift between each plane"
   ]
  },
  {
   "cell_type": "code",
   "execution_count": null,
   "id": "73a8d931",
   "metadata": {
    "scrolled": true
   },
   "outputs": [],
   "source": [
    "dx, dy = pi.global_drift(alg_mask)"
   ]
  },
  {
   "cell_type": "markdown",
   "id": "3528fbd4",
   "metadata": {
    "tags": []
   },
   "source": [
    "### Filtering to find the moments the camera moved"
   ]
  },
  {
   "cell_type": "code",
   "execution_count": null,
   "id": "e2dcb67b",
   "metadata": {
    "scrolled": true
   },
   "outputs": [],
   "source": [
    "df_drift,res = pi.filtering_drift(dx,dy)"
   ]
  },
  {
   "cell_type": "markdown",
   "id": "88123753",
   "metadata": {
    "tags": []
   },
   "source": [
    "# Segmentation of the preprocessed movie"
   ]
  },
  {
   "cell_type": "code",
   "execution_count": null,
   "id": "dc490aaa",
   "metadata": {
    "scrolled": true
   },
   "outputs": [],
   "source": [
    "mask = pi.segmentation_chanvese(preprocessed)"
   ]
  },
  {
   "cell_type": "markdown",
   "id": "bc2ad9f0",
   "metadata": {
    "tags": []
   },
   "source": [
    "# Extracting the features"
   ]
  },
  {
   "cell_type": "markdown",
   "id": "7a033d58",
   "metadata": {
    "tags": []
   },
   "source": [
    "## Organism"
   ]
  },
  {
   "cell_type": "code",
   "execution_count": null,
   "id": "a731b4cb",
   "metadata": {},
   "outputs": [],
   "source": [
    "prop = {'properties': ['label',\n",
    "   'centroid',\n",
    "   'area',\n",
    "   'perimeter',\n",
    "   'eccentricity'],'extra_properties': ['convexity']}\n",
    "\n",
    "segmentator = SingleObjectFeatures(mask,preprocessed, params=prop)\n",
    "df_props = segmentator.get_features()"
   ]
  },
  {
   "cell_type": "code",
   "execution_count": null,
   "id": "9a841a8d",
   "metadata": {},
   "outputs": [],
   "source": [
    "df_props_correct = pi.clean_results(df_props,df_drift,window_size = 3)"
   ]
  },
  {
   "cell_type": "markdown",
   "id": "def7d3ec",
   "metadata": {
    "tags": []
   },
   "source": [
    "## Wound"
   ]
  },
  {
   "cell_type": "code",
   "execution_count": null,
   "id": "dbd0bf97",
   "metadata": {
    "scrolled": true
   },
   "outputs": [],
   "source": [
    "wound = get_holes_mask(mask)\n",
    "segmentator = SingleObjectFeatures(wound,wound, params=prop)\n",
    "df_props_wound = segmentator.get_features()"
   ]
  },
  {
   "cell_type": "code",
   "execution_count": null,
   "id": "9c18f043",
   "metadata": {},
   "outputs": [],
   "source": [
    "laser_frame = 0"
   ]
  },
  {
   "cell_type": "code",
   "execution_count": null,
   "id": "3b2722ea",
   "metadata": {},
   "outputs": [],
   "source": [
    "#df_props_wound_correct = pi.clean_results(df_props_wound,df_drift)\n",
    "df_props_wound_correct,time_wound = pi.interpolate_wound(df_props_wound,df_props,laser = laser_frame)"
   ]
  },
  {
   "cell_type": "code",
   "execution_count": null,
   "id": "671f5c8a",
   "metadata": {
    "scrolled": true
   },
   "outputs": [],
   "source": [
    "end = time.time() - start\n",
    "print(f'The whole pipeline took {end/60:.2f} minutes to complete')"
   ]
  },
  {
   "cell_type": "markdown",
   "id": "c190d4af",
   "metadata": {
    "tags": []
   },
   "source": [
    "# Plotting results and extracting features"
   ]
  },
  {
   "cell_type": "code",
   "execution_count": null,
   "id": "193c70f0",
   "metadata": {},
   "outputs": [],
   "source": [
    "size_pixel = 0.7692 #2.6 #in microns"
   ]
  },
  {
   "cell_type": "markdown",
   "id": "1233a8c1",
   "metadata": {},
   "source": [
    "## Area over time for organism and wound"
   ]
  },
  {
   "cell_type": "code",
   "execution_count": null,
   "id": "b6f02b6d",
   "metadata": {},
   "outputs": [],
   "source": [
    "sns.set_context('talk') # better plotting\n",
    "\n",
    "fig,ax = plt.subplots()\n",
    "ax2 = ax.twinx()\n",
    "\n",
    "area_w = np.array((df_props_wound_correct.area.values))\n",
    "area_o = np.array((df_props_correct.area.values))\n",
    "\n",
    "sns.lineplot(x=df_props_correct.index.values,y = df_props_correct.area*(size_pixel)*(size_pixel),ax = ax,color='tab:blue')\n",
    "\n",
    "sns.lineplot(x=df_props_wound_correct.index.values,y = df_props_wound_correct.area*(size_pixel)*(size_pixel),\n",
    "             ax = ax2,color='tab:orange')\n",
    "\n",
    "\n",
    "ax.set_ylabel('Trichoplax area $\\mu m^2$',color = 'tab:blue')\n",
    "ax2.set_ylabel('Wound area $\\mu m^2$',color='tab:orange')\n",
    "ax.set_xlabel('Frame')\n",
    "ax.axvline(laser_frame,0,ax.get_ylim()[1],linestyle='--',color='black',alpha=0.8,label='laser ablation')\n",
    "ax.legend()\n",
    "\n",
    "plt.show()"
   ]
  },
  {
   "cell_type": "markdown",
   "id": "76a9d288",
   "metadata": {},
   "source": [
    "## Ratio area wound/area organism"
   ]
  },
  {
   "cell_type": "code",
   "execution_count": null,
   "id": "3fcb9f94",
   "metadata": {},
   "outputs": [],
   "source": [
    "sns.lineplot(x = df_props.index.values,y = (area_w/area_o)*100)\n",
    "\n",
    "# Title of the axes\n",
    "\n",
    "plt.ylabel(r\"$ \\frac{wound\\,area}{organism\\,area}$\" + '(%)')\n",
    "plt.xlabel('Frame')\n",
    "\n",
    "# Plot a dashed line for the laser\n",
    "\n",
    "plt.vlines(laser_frame,0,max((area_w/area_o)*100),linestyle='--',color='black',alpha=0.8,label='laser ablation')\n",
    "\n",
    "plt.legend()\n",
    "plt.show()"
   ]
  },
  {
   "cell_type": "markdown",
   "id": "0f032782",
   "metadata": {},
   "source": [
    "## Area organism"
   ]
  },
  {
   "cell_type": "code",
   "execution_count": null,
   "id": "fd2c72e2",
   "metadata": {},
   "outputs": [],
   "source": [
    "sns.lineplot(x=df_props_correct.index.values,y = df_props_correct.area*(size_pixel)*(size_pixel),color='tab:blue')"
   ]
  },
  {
   "cell_type": "markdown",
   "id": "25e89f76",
   "metadata": {},
   "source": [
    "## Trajectory"
   ]
  },
  {
   "cell_type": "code",
   "execution_count": null,
   "id": "e7e1ec3c",
   "metadata": {},
   "outputs": [],
   "source": [
    "sns.set_context('notebook')\n",
    "\n",
    "fig,ax = plt.subplots()\n",
    "\n",
    "# scatter plot of the trajectory\n",
    "sns.scatterplot(x = df_props_correct['centroid-0'],y = df_props_correct['centroid-1'],marker=\"o\"\n",
    "                ,hue=df_props_correct.index,palette=\"magma\",linewidth=0,ax=ax,hue_norm=(0\n",
    "                                                                                        ,np.shape(preprocessed)[0])\n",
    "                ,zorder=1)\n",
    "\n",
    "#plot the first and last point \n",
    "\n",
    "ax.scatter(x = df_props_correct['centroid-0'].values[0],y = df_props_correct['centroid-1'].values[0]\n",
    "                ,marker=\"D\",linewidth=0,label='begining',zorder=2,s=100)\n",
    "ax.scatter(x = df_props_correct['centroid-0'].values[-1],y = df_props_correct['centroid-1'].values[-1]\n",
    "                ,marker=\"s\",linewidth=0,label='end',zorder=2,s=70)\n",
    "\n",
    "#Plot a dashed line to have the connectivity of the trajectory \n",
    "\n",
    "ax.plot(df_props_correct['centroid-0'],df_props_correct['centroid-1'],linestyle='--',zorder=0,alpha=0.8)\n",
    "\n",
    "# Mise en forme\n",
    "\n",
    "plt.xlabel('Y-coordinate')\n",
    "plt.ylabel('X-coordinate')\n",
    "plt.title('Trajectory of Placozoa movement')\n",
    "plt.legend(title='Frame')\n",
    "plt.tight_layout()\n",
    "\n",
    "# if you want to save the image \n",
    "\n",
    "#plt.savefig('../data/results/figures/complete_pipeline/trajectory')\n",
    "\n",
    "plt.show()"
   ]
  },
  {
   "cell_type": "code",
   "execution_count": null,
   "id": "27e13387",
   "metadata": {
    "scrolled": true
   },
   "outputs": [],
   "source": [
    "end = time.time() - start\n",
    "print(f'The whole pipeline took {end/60:.2f} minutes to complete')"
   ]
  },
  {
   "cell_type": "markdown",
   "id": "fe63cafc",
   "metadata": {
    "tags": []
   },
   "source": [
    "# Saving the images and dataframes"
   ]
  },
  {
   "cell_type": "markdown",
   "id": "2ecf689c",
   "metadata": {
    "tags": []
   },
   "source": [
    "## Saving the preprocessed image"
   ]
  },
  {
   "cell_type": "markdown",
   "id": "69d4052f",
   "metadata": {},
   "source": [
    "path_preprocessed = '../data/new_movies/results/preprocessed/preprocessed_19102022_16h43_3.tif'\n",
    "imwrite(path_preprocessed,preprocessed)"
   ]
  },
  {
   "cell_type": "markdown",
   "id": "2a820a01-d9a4-40c0-8034-9e108a6df49c",
   "metadata": {
    "tags": []
   },
   "source": [
    "## Saving the mask"
   ]
  },
  {
   "cell_type": "markdown",
   "id": "65cba01c",
   "metadata": {},
   "source": [
    "path_mask = '../data/new_movies/results/mask/preprocesed_19102022_16h43_3_mask.tif'\n",
    "imwrite(path_mask,mask)"
   ]
  },
  {
   "cell_type": "markdown",
   "id": "7e2bad4b-766e-404b-8267-71fe5266d716",
   "metadata": {
    "tags": []
   },
   "source": [
    "## Saving the dataframes"
   ]
  },
  {
   "cell_type": "markdown",
   "id": "3f39a43c",
   "metadata": {},
   "source": [
    "path_props= '../data/new_movies/results/tables/props_19102022_16h43_3.csv'\n",
    "path_props_wound = '../data/new_movies/results/tables/props_wound_19102022_16h43_3.csv'\n",
    "path_drift = '../data/new_movies/results/tables/drift_19102022_16h43_3.csv'\n",
    "\n",
    "df_props_correct.to_csv(path_props)\n",
    "df_props_wound_correct.to_csv(path_props_wound)\n",
    "df_drift.to_csv(path_drift)"
   ]
  },
  {
   "cell_type": "markdown",
   "id": "ae912c13",
   "metadata": {
    "tags": []
   },
   "source": [
    "# Optional : visualizing the drift"
   ]
  },
  {
   "cell_type": "markdown",
   "id": "ada72dd8",
   "metadata": {
    "scrolled": true
   },
   "source": [
    "canva,diffx,diffy = pi.create_canva(df_drift,preprocessed)\n",
    "\n",
    "rescaled = pi.place_img(canva,diffx,diffy,preprocessed,df_drift,res)"
   ]
  },
  {
   "cell_type": "markdown",
   "id": "03bca2bb",
   "metadata": {
    "jp-MarkdownHeadingCollapsed": true,
    "tags": []
   },
   "source": [
    "## Saving the canva"
   ]
  },
  {
   "cell_type": "markdown",
   "id": "57eaad68",
   "metadata": {},
   "source": [
    "path_canva = '../data/tricho_8_wound_drift_visualization.tif'\n",
    "imwrite(path_canva,rescaled,compression='zlib') #adding compression to reduce file size"
   ]
  },
  {
   "cell_type": "code",
   "execution_count": null,
   "id": "49590ae1",
   "metadata": {},
   "outputs": [],
   "source": [
    "print('Done !')"
   ]
  }
 ],
 "metadata": {
  "kernelspec": {
   "display_name": "Python 3 (ipykernel)",
   "language": "python",
   "name": "python3"
  },
  "language_info": {
   "codemirror_mode": {
    "name": "ipython",
    "version": 3
   },
   "file_extension": ".py",
   "mimetype": "text/x-python",
   "name": "python",
   "nbconvert_exporter": "python",
   "pygments_lexer": "ipython3",
   "version": "3.10.8"
  }
 },
 "nbformat": 4,
 "nbformat_minor": 5
}
